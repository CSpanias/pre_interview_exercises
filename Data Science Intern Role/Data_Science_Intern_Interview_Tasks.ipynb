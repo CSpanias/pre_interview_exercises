{
 "cells": [
  {
   "cell_type": "markdown",
   "metadata": {},
   "source": [
    "# Data Science Intern Interview Task\n",
    "\n",
    "#### Note: All calculations should be done in this notebook using Python 3"
   ]
  },
  {
   "cell_type": "markdown",
   "metadata": {},
   "source": [
    "## Part 1\n",
    "\n",
    "You are given three files by a client:\n",
    " - 'Transactions.csv' contains a list of transactions for a bank,\n",
    " - 'EUR Exchange Rates.csv' contains a list of Euro to Pound Sterling exchange rates,\n",
    " - 'USD Exchange Rates.csv' contains a list of US Dollar to Pound Sterling exchange rates.\n",
    " \n",
    "The client has asked for monthly forecasts of their data.\n",
    "\n",
    "Your task is to clean and transform these files before they can be used for analysis.\n",
    "\n",
    "Please produce a single csv file covering the period Jan-2015 to Feb-2019 with column headings:\n",
    " - Calendar Month\n",
    " - Sum of Withdrawals (GBP)\n",
    " - Sum of Deposits (GBP)\n",
    " - Number of Transactions\n",
    " - Account Balance for each account (GBP)\n",
    " \n",
    "You may assume that the Account Balance is zero on 31-Dec-2014."
   ]
  },
  {
   "cell_type": "code",
   "execution_count": 1,
   "metadata": {},
   "outputs": [],
   "source": [
    "# Answer for Part 1\n",
    "\n"
   ]
  },
  {
   "cell_type": "markdown",
   "metadata": {},
   "source": [
    "## Part 2\n",
    "\n",
    "For this task you are given a single file containg patient data: 'diabetes.csv'.\n",
    "\n",
    "The 'Outcome' column is 1 if the patient has diabetes, and 0 if they do not. The aim of this task is to build a model that will determine the probability of someone having diabetes or not, based on all other variables given in the dataset.\n",
    "\n",
    "Some code has been provided for you, but please feel free to edit it and investigate.\n",
    "\n",
    "We first split up the data into a training set and test set. Please run the code below."
   ]
  },
  {
   "cell_type": "code",
   "execution_count": 2,
   "metadata": {},
   "outputs": [
    {
     "name": "stdout",
     "output_type": "stream",
     "text": [
      "   Pregnancies  Glucose  BloodPressure  SkinThickness  Insulin   BMI  \\\n",
      "0            6      148             72             35        0  33.6   \n",
      "1            1       85             66             29        0  26.6   \n",
      "2            8      183             64              0        0  23.3   \n",
      "3            1       89             66             23       94  28.1   \n",
      "4            0      137             40             35      168  43.1   \n",
      "\n",
      "   DiabetesPedigreeFunction  Age  Outcome  \n",
      "0                     0.627   50        1  \n",
      "1                     0.351   31        0  \n",
      "2                     0.672   32        1  \n",
      "3                     0.167   21        0  \n",
      "4                     2.288   33        1  \n"
     ]
    }
   ],
   "source": [
    "import pandas as pd\n",
    "\n",
    "# Load diabetes.csv into a dataframe\n",
    "data = pd.read_csv('diabetes.csv')\n",
    "print(data.head())"
   ]
  },
  {
   "cell_type": "code",
   "execution_count": 3,
   "metadata": {},
   "outputs": [],
   "source": [
    "from sklearn.model_selection import train_test_split\n",
    "\n",
    "# Split data into features (X) and labels (y)\n",
    "X = data.drop(columns='Outcome')\n",
    "y = data['Outcome']\n",
    "\n",
    "# Split data as 80% training set, and 20% test set\n",
    "X_train, X_test, y_train, y_test = train_test_split(X, y, test_size=0.2)"
   ]
  },
  {
   "cell_type": "markdown",
   "metadata": {},
   "source": [
    "We are given two models to compare. Please run the code below."
   ]
  },
  {
   "cell_type": "code",
   "execution_count": 4,
   "metadata": {},
   "outputs": [],
   "source": [
    "from sklearn.preprocessing import StandardScaler\n",
    "from sklearn.ensemble import RandomForestClassifier\n",
    "from sklearn.neighbors import KNeighborsClassifier\n",
    "\n",
    "def random_forest_predict(X_train, y_train, X_test, y_test):\n",
    "\n",
    "    rfc = RandomForestClassifier(max_depth=5, n_estimators=10, max_features=1, random_state=42)\n",
    "    rfc.fit(X_train, y_train)\n",
    "\n",
    "    return rfc.predict_proba(X_test)[:, 1]\n",
    "\n",
    "def knn_predict(X_train, y_train, X_test, y_test):\n",
    "\n",
    "    scaler = StandardScaler().fit(X_train)\n",
    "    X_train = scaler.transform(X_train)\n",
    "    X_test = scaler.transform(X_test)\n",
    "\n",
    "    knn = KNeighborsClassifier(n_neighbors=5)\n",
    "    knn.fit(X_train, y_train)\n",
    "\n",
    "    return knn.predict_proba(X_test)[:, 1]\n",
    "\n",
    "rf_probabilities = random_forest_predict(X_train, y_train, X_test, y_test)\n",
    "knn_probabilities = knn_predict(X_train, y_train, X_test, y_test)"
   ]
  },
  {
   "cell_type": "markdown",
   "metadata": {},
   "source": [
    "Please compare y_test to rf_probabilities and knn_probabilities and give a recommendation of which model to use. You may want to use different metrics and/or produce plots to back up your answer."
   ]
  },
  {
   "cell_type": "code",
   "execution_count": 5,
   "metadata": {},
   "outputs": [],
   "source": [
    "# Answer for Part 2\n",
    "\n"
   ]
  }
 ],
 "metadata": {
  "kernelspec": {
   "display_name": "Python 3",
   "language": "python",
   "name": "python3"
  },
  "language_info": {
   "codemirror_mode": {
    "name": "ipython",
    "version": 3
   },
   "file_extension": ".py",
   "mimetype": "text/x-python",
   "name": "python",
   "nbconvert_exporter": "python",
   "pygments_lexer": "ipython3",
   "version": "3.8.3"
  }
 },
 "nbformat": 4,
 "nbformat_minor": 4
}
