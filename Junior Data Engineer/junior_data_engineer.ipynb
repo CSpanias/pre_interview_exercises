{
 "cells": [
  {
   "cell_type": "code",
   "execution_count": 2,
   "id": "86824bf6",
   "metadata": {},
   "outputs": [
    {
     "data": {
      "text/plain": [
       "['thy heavy', 'thy instrument']"
      ]
     },
     "execution_count": 2,
     "metadata": {},
     "output_type": "execute_result"
    }
   ],
   "source": [
    "text = \"Bear with me, good boy, I am much forgetful. Canst thou hold up thy heavy eyes awhile, And touch thy instrument a strain or two?\"\n",
    "    \n",
    "import re\n",
    "\n",
    "pattern = re.compile(r'thy.*?\\s\\w+')\n",
    "\n",
    "result = re.findall(pattern, text)\n",
    "result"
   ]
  },
  {
   "cell_type": "code",
   "execution_count": 6,
   "id": "21256c7e",
   "metadata": {},
   "outputs": [
    {
     "name": "stdout",
     "output_type": "stream",
     "text": [
      "407\n"
     ]
    }
   ],
   "source": [
    "def recurse_add(data_list):\n",
    "    \"\"\"Sum all values in the list.\"\"\"\n",
    "    # initialize value\n",
    "    sum = 0\n",
    "    # iterate through each value\n",
    "    for value in data_list:\n",
    "        # increase sum by value\n",
    "        sum += value\n",
    "    return sum\n",
    "\n",
    "a = [11, 93, 46, 57, 200]\n",
    "\n",
    "sum = recurse_add(a)\n",
    "print(sum)"
   ]
  },
  {
   "cell_type": "code",
   "execution_count": 15,
   "id": "3e1b9e34",
   "metadata": {},
   "outputs": [
    {
     "name": "stdout",
     "output_type": "stream",
     "text": [
      "['my', 'name', 'is', 'harris']\n",
      "['harris', 'is', 'name', 'my']\n"
     ]
    },
    {
     "data": {
      "text/plain": [
       "'harris is name my'"
      ]
     },
     "execution_count": 15,
     "metadata": {},
     "output_type": "execute_result"
    }
   ],
   "source": [
    "def reverse_sentence(sentence):\n",
    "    \"\"\"Revese the words in a sentence.\"\"\"\n",
    "    \n",
    "    word_list = sentence.split()\n",
    "    print(word_list)\n",
    "    reversed_list = word_list[:: -1]\n",
    "    print(reversed_list)\n",
    "    reversed_sentence = \" \".join(reversed_list)\n",
    "    return reversed_sentence\n",
    "\n",
    "reverse_sentence(statement)"
   ]
  },
  {
   "cell_type": "code",
   "execution_count": 21,
   "id": "fbd9c1db",
   "metadata": {},
   "outputs": [
    {
     "name": "stdout",
     "output_type": "stream",
     "text": [
      "Name to Age Map:\n",
      "John: 20\n",
      "Jack: 22\n",
      "Jake: 18\n"
     ]
    }
   ],
   "source": [
    "def merge_lists(name, age):\n",
    "    my_dict = {}\n",
    "    \n",
    "    my_dict = dict(zip(name, age))\n",
    "    print(\"Name to Age Map:\")\n",
    "    for key, value in my_dict.items():\n",
    "        print('{}: {}'.format(key, value))\n",
    "\n",
    "name = [\"John\", \"Jack\", \"Jake\"]\n",
    "age = [20, 22, 18]\n",
    "merge_lists(name, age)"
   ]
  }
 ],
 "metadata": {
  "kernelspec": {
   "display_name": "Python 3 (ipykernel)",
   "language": "python",
   "name": "python3"
  },
  "language_info": {
   "codemirror_mode": {
    "name": "ipython",
    "version": 3
   },
   "file_extension": ".py",
   "mimetype": "text/x-python",
   "name": "python",
   "nbconvert_exporter": "python",
   "pygments_lexer": "ipython3",
   "version": "3.9.7"
  }
 },
 "nbformat": 4,
 "nbformat_minor": 5
}
